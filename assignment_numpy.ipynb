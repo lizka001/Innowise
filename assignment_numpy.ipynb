{
 "cells": [
  {
   "cell_type": "markdown",
   "id": "d3df79dd",
   "metadata": {},
   "source": [
    "## Упражнения по библиотеке Numpy"
   ]
  },
  {
   "cell_type": "code",
   "execution_count": 2,
   "id": "76b9c43b",
   "metadata": {},
   "outputs": [],
   "source": [
    "import numpy as np"
   ]
  },
  {
   "cell_type": "markdown",
   "id": "03727b7c",
   "metadata": {},
   "source": [
    "**1.** Дан случайный массив, поменять знак у элементов, значения которых между 3 и 8"
   ]
  },
  {
   "cell_type": "code",
   "execution_count": 13,
   "id": "b89a7523",
   "metadata": {},
   "outputs": [],
   "source": [
    "def random_array():\n",
    "    return np.random.randint(-5, 15, 15)\n",
    "\n"
   ]
  },
  {
   "cell_type": "code",
   "execution_count": 16,
   "id": "9f2cfdfd",
   "metadata": {},
   "outputs": [
    {
     "name": "stdout",
     "output_type": "stream",
     "text": [
      "13 9 13 -3 2 -1 -3 5 14 2 7 0 -5 -4 9\n",
      "13 9 13 -3 2 -1 -3 -5 14 2 -7 0 -5 -4 9\n"
     ]
    }
   ],
   "source": [
    "array = random_array()\n",
    "print(*array)\n",
    "\n",
    "array[(array > 3) & (array < 8)] *= -1\n",
    "print(*array)\n",
    "\n"
   ]
  },
  {
   "cell_type": "markdown",
   "id": "5fa4abda",
   "metadata": {},
   "source": [
    "**2.** Заменить максимальный элемент случайного массива на 0"
   ]
  },
  {
   "cell_type": "code",
   "execution_count": 22,
   "id": "f2788a6e",
   "metadata": {},
   "outputs": [
    {
     "name": "stdout",
     "output_type": "stream",
     "text": [
      "0 5 -1 9 3 3 8 7 13 -1 -2 0 -5 5 11\n",
      "0 5 -1 9 3 3 8 7 0 -1 -2 0 -5 5 11\n"
     ]
    }
   ],
   "source": [
    "array2 = random_array()\n",
    "print(*array2)\n",
    "array2[array2.argmax()] = 0\n",
    "print(*array2)"
   ]
  },
  {
   "cell_type": "markdown",
   "id": "3cac656b",
   "metadata": {},
   "source": [
    "**3.** Построить прямое произведение массивов (все комбинации с каждым элементом). На вход подается двумерный массив"
   ]
  },
  {
   "cell_type": "code",
   "execution_count": 27,
   "id": "3396b764",
   "metadata": {},
   "outputs": [
    {
     "name": "stdout",
     "output_type": "stream",
     "text": [
      "[1 0] [1 1] [1 4] [2 0] [2 1] [2 4] [3 0] [3 1] [3 4]\n"
     ]
    }
   ],
   "source": [
    "def decart(arr1, arr2):\n",
    "    return np.array([(i,j) for i in arr1 for j in arr2])\n",
    "\n",
    "\n",
    "print(*decart([1, 2, 3],[0, 1, 4]))"
   ]
  },
  {
   "cell_type": "markdown",
   "id": "674c9354",
   "metadata": {},
   "source": [
    "**4.** Даны 2 массива A (8x3) и B (2x2). Найти строки в A, которые содержат элементы из каждой строки в B, независимо от порядка элементов в B"
   ]
  },
  {
   "cell_type": "code",
   "execution_count": 45,
   "id": "cb664782",
   "metadata": {},
   "outputs": [
    {
     "name": "stdout",
     "output_type": "stream",
     "text": [
      "[[ 8  1 -3]\n",
      " [ 6 -3 14]\n",
      " [14  6 -2]\n",
      " [ 5 11 -3]\n",
      " [ 7 12 -5]\n",
      " [ 4 -1 -2]\n",
      " [ 0  1  6]\n",
      " [13  0  1]]\n",
      "\n",
      "\n",
      "[[ 9 -2]\n",
      " [ 0  6]]\n",
      "\n",
      "\n",
      "[[14  6 -2]]\n"
     ]
    }
   ],
   "source": [
    "A = np.random.randint(-5, 15, (8, 3))\n",
    "B = np.random.randint(-5, 15, (2, 2))\n",
    "\n",
    "print(A, end='\\n\\n\\n')\n",
    "print(B, end='\\n\\n\\n')\n",
    "\n",
    "compared_matrix = (A[..., np.newaxis, np.newaxis] == B)\n",
    "result = A[np.all(np.any(compared_matrix, axis =(1, 3)), axis = 1)]\n",
    "print(result)\n",
    "\n"
   ]
  },
  {
   "cell_type": "markdown",
   "id": "fa46533b",
   "metadata": {},
   "source": [
    "**5.** Дана 10x3 матрица, найти строки из неравных значений (например строка [2,2,3] остается, строка [3,3,3] удаляется)"
   ]
  },
  {
   "cell_type": "code",
   "execution_count": 75,
   "id": "fa545b23",
   "metadata": {},
   "outputs": [
    {
     "name": "stdout",
     "output_type": "stream",
     "text": [
      "[[2 2 1]\n",
      " [1 1 2]\n",
      " [2 1 1]\n",
      " [2 1 1]\n",
      " [2 2 2]\n",
      " [2 2 1]\n",
      " [2 2 1]\n",
      " [2 1 1]\n",
      " [1 2 2]\n",
      " [1 2 2]]\n",
      "\n",
      "\n",
      "\n",
      "\n",
      "[[2 2 1]\n",
      " [1 1 2]\n",
      " [2 1 1]\n",
      " [2 1 1]\n",
      " [2 2 1]\n",
      " [2 2 1]\n",
      " [2 1 1]\n",
      " [1 2 2]\n",
      " [1 2 2]]\n"
     ]
    }
   ],
   "source": [
    "A = np.random.randint(1, 3, (10, 3))\n",
    "print(A, end='\\n\\n\\n\\n\\n')\n",
    "\n",
    "equal = np.logical_and.reduce(A[:,1:] == A[:,:-1], axis=1)\n",
    "print(A[~equal])"
   ]
  },
  {
   "cell_type": "markdown",
   "id": "28f0d116",
   "metadata": {},
   "source": [
    "**6.** Дан двумерный массив. Удалить те строки, которые повторяются"
   ]
  },
  {
   "cell_type": "code",
   "execution_count": 93,
   "id": "83d2c0b7",
   "metadata": {},
   "outputs": [
    {
     "name": "stdout",
     "output_type": "stream",
     "text": [
      "[[2 2 2]\n",
      " [1 2 2]\n",
      " [2 2 2]\n",
      " [2 2 2]\n",
      " [1 2 1]\n",
      " [1 1 2]\n",
      " [1 1 1]\n",
      " [1 1 1]\n",
      " [2 2 2]\n",
      " [2 1 2]]\n",
      "\n",
      "\n",
      "\n",
      "\n",
      "[[1 1 1]\n",
      " [1 1 2]\n",
      " [1 2 1]\n",
      " [1 2 2]\n",
      " [2 1 2]\n",
      " [2 2 2]]\n"
     ]
    }
   ],
   "source": [
    "A = np.random.randint(1, 3, (10, 3))\n",
    "print(A, end='\\n\\n\\n\\n\\n')\n",
    "\n",
    "B = np.unique(A, axis=0)\n",
    "print(B)"
   ]
  },
  {
   "cell_type": "markdown",
   "id": "6daa9e37",
   "metadata": {},
   "source": [
    "______\n",
    "______"
   ]
  },
  {
   "cell_type": "markdown",
   "id": "cfbfcaff",
   "metadata": {},
   "source": [
    "Для каждой из следующих задач (1-5) нужно привести 2 реализации – одна без использования numpy (cчитайте, что там, где на входе или выходе должны быть numpy array, будут просто списки), а вторая полностью векторизованная с использованием numpy (без использования питоновских циклов/map/list comprehension).\n",
    "\n",
    "\n",
    "__Замечание 1.__ Можно считать, что все указанные объекты непустые (к примеру, в __задаче 1__ на диагонали матрицы есть ненулевые элементы).\n",
    "\n",
    "__Замечание 2.__ Для большинства задач решение занимает не больше 1-2 строк."
   ]
  },
  {
   "cell_type": "markdown",
   "id": "673cac7f",
   "metadata": {},
   "source": [
    "___"
   ]
  },
  {
   "cell_type": "markdown",
   "id": "ca6f585e",
   "metadata": {},
   "source": [
    "* __Задача 1__: Подсчитать произведение ненулевых элементов на диагонали прямоугольной матрицы.  \n",
    " Например, для X = np.array([[1, 0, 1], [2, 0, 2], [3, 0, 3], [4, 4, 4]]) ответ 3."
   ]
  },
  {
   "cell_type": "code",
   "execution_count": 104,
   "id": "065862fc",
   "metadata": {},
   "outputs": [
    {
     "name": "stdout",
     "output_type": "stream",
     "text": [
      "3\n"
     ]
    }
   ],
   "source": [
    "array = [[1, 0, 1], [2, 0, 2], [3, 0, 3], [4, 4, 4]]\n",
    "mult = 1\n",
    "\n",
    "for i in range(len(array)):\n",
    "    for j in range(len(array[1])):\n",
    "        if i == j and array[i][j] != 0:\n",
    "            mult *= array[i][j]\n",
    "            \n",
    "print (mult)            \n",
    "            "
   ]
  },
  {
   "cell_type": "code",
   "execution_count": 110,
   "id": "02e7011d",
   "metadata": {},
   "outputs": [
    {
     "name": "stdout",
     "output_type": "stream",
     "text": [
      "3\n"
     ]
    }
   ],
   "source": [
    "X = np.array([[1, 0, 1], [2, 0, 2], [3, 0, 3], [4, 4, 4]]) \n",
    "mult = np.prod(np.diag(X)[np.diag(X) != 0])\n",
    "\n",
    "print(mult)"
   ]
  },
  {
   "cell_type": "markdown",
   "id": "9fc51d41",
   "metadata": {},
   "source": [
    "* __Задача 2__: Даны два вектора x и y. Проверить, задают ли они одно и то же мультимножество.  \n",
    "  Например, для x = np.array([1, 2, 2, 4]), y = np.array([4, 2, 1, 2]) ответ True."
   ]
  },
  {
   "cell_type": "code",
   "execution_count": 116,
   "id": "a809e02f",
   "metadata": {},
   "outputs": [
    {
     "name": "stdout",
     "output_type": "stream",
     "text": [
      "True\n",
      "True\n"
     ]
    }
   ],
   "source": [
    "x = [1, 2, 2, 4]\n",
    "y = [4, 2, 1, 2]\n",
    "\n",
    "print(set(x) == set(y))\n",
    "\n",
    "x_ = np.array([1, 2, 2, 4])\n",
    "y_ = np.array([4, 2, 1, 2])\n",
    "print(np.all((np.sort(x)==np.sort(y))))"
   ]
  },
  {
   "cell_type": "markdown",
   "id": "b9c185c7",
   "metadata": {},
   "source": [
    "* __Задача 3__: Найти максимальный элемент в векторе x среди элементов, перед которыми стоит ноль. \n",
    " Например, для x = np.array([6, 2, 0, 3, 0, 0, 5, 7, 0]) ответ 5."
   ]
  },
  {
   "cell_type": "code",
   "execution_count": 136,
   "id": "b57df008",
   "metadata": {},
   "outputs": [
    {
     "name": "stdout",
     "output_type": "stream",
     "text": [
      "5\n",
      "5\n"
     ]
    }
   ],
   "source": [
    "array = [6, 2, 0, 3, 0, 0, 5, 7, 0]\n",
    "flag = False\n",
    "for i in range(len(array)-1):\n",
    "    if array[i] == 0:\n",
    "        if flag:\n",
    "            maximum = max(array[i+1], maximum)\n",
    "        else:\n",
    "            maximum = array[i+1]\n",
    "            flag = True\n",
    "print (maximum) \n",
    "\n",
    "\n",
    "x = np.array([6, 2, 0, 3, 0, 0, 5, 7, 0]) \n",
    "print(np.max(x[1:][(x==0)[:-1]]))\n",
    "\n",
    "    "
   ]
  },
  {
   "cell_type": "markdown",
   "id": "480be4ce",
   "metadata": {},
   "source": [
    "* __Задача 4__: Реализовать кодирование длин серий (Run-length encoding). Для некоторого вектора x необходимо вернуть кортеж из двух векторов одинаковой длины. Первый содержит числа, а второй - сколько раз их нужно повторить.  \n",
    " Например, для x = np.array([2, 2, 2, 3, 3, 3, 5]) ответ (np.array([2, 3, 5]), np.array([3, 3, 1]))."
   ]
  },
  {
   "cell_type": "code",
   "execution_count": 151,
   "id": "3c592124",
   "metadata": {},
   "outputs": [
    {
     "name": "stdout",
     "output_type": "stream",
     "text": [
      "[2, 3, 5]\n",
      "[3, 3, 1]\n",
      "[2 3 5]\n",
      "[3 3 1]\n"
     ]
    }
   ],
   "source": [
    "array = [2, 2, 2, 3, 3, 3, 5]\n",
    "return_vector1 = list(set(array))\n",
    "counter = [0 for i in range(len(return_vector1))]\n",
    "\n",
    "for i in range(len(return_vector1)):\n",
    "    for j in range(len(array)):\n",
    "        if return_vector1[i] == array[j]:\n",
    "            counter[i] += 1 \n",
    "\n",
    "print(return_vector1)\n",
    "print(counter)\n",
    "\n",
    "array =  np.array([2, 2, 2, 3, 3, 3, 5])\n",
    "return_vector2 = np.unique(array)\n",
    "counter = np.bincount(array)[np.bincount(array) != 0]\n",
    "\n",
    "print(return_vector2)\n",
    "print(counter)"
   ]
  },
  {
   "cell_type": "markdown",
   "id": "077532ec",
   "metadata": {},
   "source": [
    "* __Задача 5__: Даны две выборки объектов - X и Y. Вычислить матрицу евклидовых расстояний между объектами. Сравните с функцией scipy.spatial.distance.cdist по скорости работы."
   ]
  },
  {
   "cell_type": "code",
   "execution_count": 254,
   "id": "1e807797",
   "metadata": {},
   "outputs": [
    {
     "name": "stdout",
     "output_type": "stream",
     "text": [
      "Plain Python realization\n",
      "[6.4031242374328485, 9.486832980505138, 5.385164807134504]\n",
      "Took 0.0008437633514404297 ms\n",
      "\n",
      "Numpy realization\n",
      "[6.40312424 9.48683298 5.38516481]\n",
      "Took 0.0005502700805664062 ms\n",
      "\n"
     ]
    }
   ],
   "source": [
    "import time\n",
    "\n",
    "#без numpy\n",
    "X = [[1, 5], [1, 10], [2, 7]]\n",
    "Y = [[2, 7], [1, 4], [3, 1]]\n",
    "dist_x = []\n",
    "dist_y = []\n",
    "\n",
    "start_time_1 = time.time()\n",
    "for i in range(len(X)):\n",
    "    for j in range(len(X[1])-1):\n",
    "        dist_x.append(abs(X[i][j] - X[i][j+1]))\n",
    " \n",
    "for i in range(len(Y)):\n",
    "    for j in range(len(Y[1])-1):\n",
    "        dist_y.append(abs(Y[i][j] - Y[i][j+1]))\n",
    "\n",
    "        \n",
    "dist_nnumpy = []\n",
    "for i in range(len(dist_x)):\n",
    "    dist_nnumpy.append(pow(pow(dist_x[i],2) + pow(dist_y[i], 2), 0.5))\n",
    "\n",
    "print('Plain Python realization')\n",
    "print(dist_nnumpy)\n",
    "print('Took', (time.time() - start_time_1), 'ms', end='\\n\\n')\n",
    "\n",
    "#numpy\n",
    "start_time_2 = time.time()\n",
    "dist_numpy = (np.array([dist_x, dist_y])**2).sum(axis=0)**0.5\n",
    "\n",
    "print('Numpy realization')\n",
    "print(dist_numpy)\n",
    "print('Took', (time.time() - start_time_2), 'ms', end='\\n\\n')\n"
   ]
  },
  {
   "cell_type": "markdown",
   "id": "973e8064",
   "metadata": {},
   "source": [
    "_______\n",
    "________"
   ]
  },
  {
   "cell_type": "markdown",
   "id": "1104acb7",
   "metadata": {},
   "source": [
    "* #### __Задача 6__: CrunchieMunchies __*__\n",
    "\n",
    "Вы работаете в отделе маркетинга пищевой компании MyCrunch, которая разрабатывает новый вид вкусных, полезных злаков под названием **CrunchieMunchies**.\n",
    "\n",
    "Вы хотите продемонстрировать потребителям, насколько полезны ваши хлопья по сравнению с другими ведущими брендами, поэтому вы собрали данные о питании нескольких разных конкурентов.\n",
    "\n",
    "Ваша задача - использовать вычисления Numpy для анализа этих данных и доказать, что ваши **СrunchieMunchies** - самый здоровый выбор для потребителей.\n"
   ]
  },
  {
   "cell_type": "code",
   "execution_count": 152,
   "id": "10a77f8d",
   "metadata": {},
   "outputs": [],
   "source": [
    "import numpy as np"
   ]
  },
  {
   "cell_type": "markdown",
   "id": "ab87cb03",
   "metadata": {},
   "source": [
    "1. Просмотрите файл cereal.csv. Этот файл содержит количества калорий для различных марок хлопьев. Загрузите данные из файла и сохраните их как calorie_stats."
   ]
  },
  {
   "cell_type": "code",
   "execution_count": 153,
   "id": "9681ebf2",
   "metadata": {},
   "outputs": [
    {
     "data": {
      "text/plain": [
       "array([ 70., 120.,  70.,  50., 110., 110., 110., 130.,  90.,  90., 120.,\n",
       "       110., 120., 110., 110., 110., 100., 110., 110., 110., 100., 110.,\n",
       "       100., 100., 110., 110., 100., 120., 120., 110., 100., 110., 100.,\n",
       "       110., 120., 120., 110., 110., 110., 140., 110., 100., 110., 100.,\n",
       "       150., 150., 160., 100., 120., 140.,  90., 130., 120., 100.,  50.,\n",
       "        50., 100., 100., 120., 100.,  90., 110., 110.,  80.,  90.,  90.,\n",
       "       110., 110.,  90., 110., 140., 100., 110., 110., 100., 100., 110.])"
      ]
     },
     "execution_count": 153,
     "metadata": {},
     "output_type": "execute_result"
    }
   ],
   "source": [
    "calorie_stats = np.loadtxt(\"./data/cereal.csv\", delimiter=\",\")\n",
    "calorie_stats"
   ]
  },
  {
   "cell_type": "markdown",
   "id": "139cfbd8",
   "metadata": {},
   "source": [
    "2. В одной порции CrunchieMunchies содержится 60 калорий. Насколько выше среднее количество калорий у ваших конкурентов?\n",
    "\n",
    "Сохраните ответ в переменной average_calories и распечатайте переменную в терминале"
   ]
  },
  {
   "cell_type": "code",
   "execution_count": 155,
   "id": "7036d240",
   "metadata": {},
   "outputs": [
    {
     "data": {
      "text/plain": [
       "106.88311688311688"
      ]
     },
     "execution_count": 155,
     "metadata": {},
     "output_type": "execute_result"
    }
   ],
   "source": [
    "average_calories = calorie_stats.mean()\n",
    "print(average_calories)"
   ]
  },
  {
   "cell_type": "markdown",
   "id": "b2ddb4cd",
   "metadata": {},
   "source": [
    "3. Корректно ли среднее количество калорий отражает распределение набора данных? Давайте отсортируем данные и посмотрим.\n",
    "\n",
    "Отсортируйте данные и сохраните результат в переменной calorie_stats_sorted. Распечатайте отсортированную информацию"
   ]
  },
  {
   "cell_type": "code",
   "execution_count": 158,
   "id": "46eeb4ed",
   "metadata": {},
   "outputs": [
    {
     "name": "stdout",
     "output_type": "stream",
     "text": [
      "[ 50.  50.  50.  70.  70.  80.  90.  90.  90.  90.  90.  90.  90. 100.\n",
      " 100. 100. 100. 100. 100. 100. 100. 100. 100. 100. 100. 100. 100. 100.\n",
      " 100. 100. 110. 110. 110. 110. 110. 110. 110. 110. 110. 110. 110. 110.\n",
      " 110. 110. 110. 110. 110. 110. 110. 110. 110. 110. 110. 110. 110. 110.\n",
      " 110. 110. 110. 120. 120. 120. 120. 120. 120. 120. 120. 120. 120. 130.\n",
      " 130. 140. 140. 140. 150. 150. 160.]\n"
     ]
    }
   ],
   "source": [
    "calorie_stats_sorted = np.sort(calorie_stats)\n",
    "print(calorie_stats_sorted)"
   ]
  },
  {
   "cell_type": "markdown",
   "id": "4dc74116",
   "metadata": {},
   "source": [
    "4. Похоже, что большинство значений выше среднего. Давайте посмотрим, является ли медиана наиболее корректным показателем набора данных.\n",
    "\n",
    "Вычислите медиану набора данных и сохраните свой ответ в median_calories. Выведите медиану, чтобы вы могли видеть, как она сравнивается со средним значением."
   ]
  },
  {
   "cell_type": "code",
   "execution_count": 160,
   "id": "b56627c3",
   "metadata": {},
   "outputs": [
    {
     "name": "stdout",
     "output_type": "stream",
     "text": [
      "110.0\n"
     ]
    }
   ],
   "source": [
    "median_calories = np.median(calorie_stats)\n",
    "print(median_calories)"
   ]
  },
  {
   "cell_type": "markdown",
   "id": "a63ab72f",
   "metadata": {},
   "source": [
    "5. В то время как медиана показывает, что по крайней мере половина наших значений составляет более 100 калорий, было бы более впечатляюще показать, что значительная часть конкурентов имеет более высокое количество калорий, чем CrunchieMunchies.\n",
    "\n",
    "Рассчитайте различные процентили и распечатайте их, пока не найдете наименьший процентиль, превышающий 60 калорий. Сохраните это значение в переменной nth_percentile."
   ]
  },
  {
   "cell_type": "code",
   "execution_count": 180,
   "id": "fe80ce03",
   "metadata": {},
   "outputs": [
    {
     "name": "stdout",
     "output_type": "stream",
     "text": [
      "160.0\n",
      "110.0\n",
      "100.0\n",
      "90.0\n",
      "77.5\n",
      "57.5\n",
      "60.0004\n"
     ]
    }
   ],
   "source": [
    "print(np.percentile(calorie_stats, 100))\n",
    "print(np.percentile(calorie_stats, 50))\n",
    "print(np.percentile(calorie_stats, 25))\n",
    "print(np.percentile(calorie_stats, 12.5))\n",
    "print(np.percentile(calorie_stats, 6.25))\n",
    "print(np.percentile(calorie_stats, 3.125))\n",
    "print(np.percentile(calorie_stats, 3.2895))\n",
    "\n",
    "nth_percentile = 3.2895"
   ]
  },
  {
   "cell_type": "markdown",
   "id": "a2a3c5aa",
   "metadata": {},
   "source": [
    "6. Хотя процентиль показывает нам, что у большинства конкурентов количество калорий намного выше, это неудобная концепция для использования в маркетинговых материалах.\n",
    "\n",
    "Вместо этого давайте подсчитаем процент хлопьев, в которых содержится более 60 калорий на порцию. Сохраните свой ответ в переменной more_calories и распечатайте его"
   ]
  },
  {
   "cell_type": "code",
   "execution_count": 193,
   "id": "ade0f6ea",
   "metadata": {},
   "outputs": [
    {
     "name": "stdout",
     "output_type": "stream",
     "text": [
      "96.1038961038961\n"
     ]
    },
    {
     "data": {
      "text/plain": [
       "77"
      ]
     },
     "execution_count": 193,
     "metadata": {},
     "output_type": "execute_result"
    }
   ],
   "source": [
    "more_calories = len(calorie_stats[calorie_stats > 60]) * 100 / len(calorie_stats)\n",
    "print(more_calories)"
   ]
  },
  {
   "cell_type": "markdown",
   "id": "1735d65b",
   "metadata": {},
   "source": [
    "7. Это действительно высокий процент. Это будет очень полезно, когда мы будем продвигать CrunchieMunchies. Но один вопрос заключается в том, насколько велики различия в наборе данных? Можем ли мы сделать обобщение, что в большинстве злаков содержится около 100 калорий или разброс еще больше?\n",
    "\n",
    "Рассчитайте величину отклонения, найдя стандартное отклонение, Сохраните свой ответ в calorie_std и распечатайте на терминале. Как мы можем включить эту ценность в наш анализ?"
   ]
  },
  {
   "cell_type": "code",
   "execution_count": 191,
   "id": "85c8df1f",
   "metadata": {},
   "outputs": [
    {
     "name": "stdout",
     "output_type": "stream",
     "text": [
      "19.36\n"
     ]
    }
   ],
   "source": [
    "calorie_std = np.std(calorie_stats)\n",
    "print(calorie_std.round(2))"
   ]
  },
  {
   "cell_type": "markdown",
   "id": "037455c5",
   "metadata": {},
   "source": [
    "8. Напишите короткий абзац, в котором кратко изложите свои выводы и то, как, по вашему мнению, эти данные могут быть использованы в интересах Mycrunch при маркетинге CrunchieMunchies."
   ]
  },
  {
   "cell_type": "markdown",
   "id": "f866c885",
   "metadata": {},
   "source": [
    "# Что мы имеем:\n",
    "1. Наши хлопья менее калорийные, чем 96,1% других хлопьев\n",
    "2. Среднее значение по калорийности 106.8 ккал, а стандартное отклонение 19.36, то есть\n",
    "   наши хлопья содержат калорий меньше, чем среднее значение - стандартное отклонение\n",
    "   \n",
    "# Как использовать?\n",
    "1. Можно сегментировать нашу ЦА и указатб, что продукт подходит для людей, которые поддерживают свой вес.\n",
    "Вероятнее всего родители захотят кормить детей более питательными хлопьями.\n",
    "2. Так как большая часть людей не знают статистики, то следует опираться на самые простые и понятные цифры. Можно использовать 96,1% как главный слоган рекламы, это покажет, чем наши хлопья отличаются от других 77 таких же продуктов."
   ]
  },
  {
   "cell_type": "code",
   "execution_count": null,
   "id": "d13bb38c",
   "metadata": {},
   "outputs": [],
   "source": []
  }
 ],
 "metadata": {
  "kernelspec": {
   "display_name": "Python 3 (ipykernel)",
   "language": "python",
   "name": "python3"
  },
  "language_info": {
   "codemirror_mode": {
    "name": "ipython",
    "version": 3
   },
   "file_extension": ".py",
   "mimetype": "text/x-python",
   "name": "python",
   "nbconvert_exporter": "python",
   "pygments_lexer": "ipython3",
   "version": "3.9.12"
  }
 },
 "nbformat": 4,
 "nbformat_minor": 5
}
